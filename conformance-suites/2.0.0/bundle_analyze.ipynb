{
 "cells": [
  {
   "cell_type": "code",
   "execution_count": 1,
   "metadata": {},
   "outputs": [],
   "source": [
    "import pandas as pd\n",
    "from pathlib import Path\n",
    "import json"
   ]
  },
  {
   "cell_type": "code",
   "execution_count": 2,
   "metadata": {},
   "outputs": [],
   "source": [
    "COPYRIGHT = \"\\n/*\\n** Copyright (c) 2012 The Khronos Group Inc.\\n**\\n** Permission is hereby granted, free of charge, to any person obtaining a\\n** copy of this software and/or associated documentation files (the\\n** \\\"Materials\\\"), to deal in the Materials without restriction, including\\n** without limitation the rights to use, copy, modify, merge, publish,\\n** distribute, sublicense, and/or sell copies of the Materials, and to\\n** permit persons to whom the Materials are furnished to do so, subject to\\n** the following conditions:\\n**\\n** The above copyright notice and this permission notice shall be included\\n** in all copies or substantial portions of the Materials.\\n**\\n** THE MATERIALS ARE PROVIDED \\\"AS IS\\\", WITHOUT WARRANTY OF ANY KIND,\\n** EXPRESS OR IMPLIED, INCLUDING BUT NOT LIMITED TO THE WARRANTIES OF\\n** MERCHANTABILITY, FITNESS FOR A PARTICULAR PURPOSE AND NONINFRINGEMENT.\\n** IN NO EVENT SHALL THE AUTHORS OR COPYRIGHT HOLDERS BE LIABLE FOR ANY\\n** CLAIM, DAMAGES OR OTHER LIABILITY, WHETHER IN AN ACTION OF CONTRACT,\\n** TORT OR OTHERWISE, ARISING FROM, OUT OF OR IN CONNECTION WITH THE\\n** MATERIALS OR THE USE OR OTHER DEALINGS IN THE MATERIALS.\\n*/\\n\\n\\n\"\n",
    "VERTEX_SHADER = 35633\n",
    "FRAGMENT_SHADER = 35632"
   ]
  },
  {
   "cell_type": "code",
   "execution_count": 3,
   "metadata": {},
   "outputs": [],
   "source": [
    "p = Path('bundle_saved_jsons')"
   ]
  },
  {
   "cell_type": "code",
   "execution_count": 4,
   "metadata": {},
   "outputs": [],
   "source": [
    "raw_list = [ json.loads(json_p.read_text()) for json_p in p.glob(\"*.json\") ]"
   ]
  },
  {
   "cell_type": "code",
   "execution_count": 5,
   "metadata": {},
   "outputs": [],
   "source": [
    "url_shader_count = []\n",
    "url_type_shader = []\n",
    "for x in raw_list:\n",
    "    test_case = '/'.join(x['url'].split('.html?')[0].split('/')[3:])\n",
    "    if 'shaders' in x:\n",
    "        url_shader_count.append([test_case, len(x['shaders'])])\n",
    "        for t, s in x['shaders']:\n",
    "            if isinstance(s, str):\n",
    "                url_type_shader.append([test_case, t, s.replace(COPYRIGHT, '')])\n",
    "            else:\n",
    "                url_type_shader.append([test_case, t, s])\n",
    "    else:\n",
    "        url_shader_count.append([test_case, 0])"
   ]
  },
  {
   "cell_type": "code",
   "execution_count": 6,
   "metadata": {},
   "outputs": [],
   "source": [
    "# to dataframe\n",
    "df_shader_count = pd.DataFrame(url_shader_count, columns=['url', 'shader_count'])\n",
    "df_type_shader = pd.DataFrame(url_type_shader, columns=['url', 'type', 'shader'])"
   ]
  },
  {
   "cell_type": "code",
   "execution_count": 7,
   "metadata": {},
   "outputs": [
    {
     "data": {
      "text/html": [
       "<div>\n",
       "<style scoped>\n",
       "    .dataframe tbody tr th:only-of-type {\n",
       "        vertical-align: middle;\n",
       "    }\n",
       "\n",
       "    .dataframe tbody tr th {\n",
       "        vertical-align: top;\n",
       "    }\n",
       "\n",
       "    .dataframe thead th {\n",
       "        text-align: right;\n",
       "    }\n",
       "</style>\n",
       "<table border=\"1\" class=\"dataframe\">\n",
       "  <thead>\n",
       "    <tr style=\"text-align: right;\">\n",
       "      <th></th>\n",
       "      <th>url</th>\n",
       "      <th>shader_count</th>\n",
       "    </tr>\n",
       "  </thead>\n",
       "  <tbody>\n",
       "    <tr>\n",
       "      <th>0</th>\n",
       "      <td>conformance/ogles/GL/built_in_varying_array_ou...</td>\n",
       "      <td>2</td>\n",
       "    </tr>\n",
       "    <tr>\n",
       "      <th>1</th>\n",
       "      <td>conformance/ogles/GL/mat/mat_033_to_040</td>\n",
       "      <td>32</td>\n",
       "    </tr>\n",
       "    <tr>\n",
       "      <th>2</th>\n",
       "      <td>conformance/glsl/implicit/ternary_ivec3_vec3.vert</td>\n",
       "      <td>2</td>\n",
       "    </tr>\n",
       "    <tr>\n",
       "      <th>3</th>\n",
       "      <td>conformance/state/gl-geterror</td>\n",
       "      <td>0</td>\n",
       "    </tr>\n",
       "    <tr>\n",
       "      <th>4</th>\n",
       "      <td>conformance/glsl/misc/ternary-operators-in-glo...</td>\n",
       "      <td>13</td>\n",
       "    </tr>\n",
       "    <tr>\n",
       "      <th>...</th>\n",
       "      <td>...</td>\n",
       "      <td>...</td>\n",
       "    </tr>\n",
       "    <tr>\n",
       "      <th>866</th>\n",
       "      <td>conformance/context/context-hidden-alpha</td>\n",
       "      <td>0</td>\n",
       "    </tr>\n",
       "    <tr>\n",
       "      <th>867</th>\n",
       "      <td>deqp/functional/gles3/fboinvalidate/format_00</td>\n",
       "      <td>52</td>\n",
       "    </tr>\n",
       "    <tr>\n",
       "      <th>868</th>\n",
       "      <td>deqp/functional/gles3/shadermatrix/negation</td>\n",
       "      <td>108</td>\n",
       "    </tr>\n",
       "    <tr>\n",
       "      <th>869</th>\n",
       "      <td>conformance/ogles/GL/smoothstep/smoothstep_001...</td>\n",
       "      <td>24</td>\n",
       "    </tr>\n",
       "    <tr>\n",
       "      <th>870</th>\n",
       "      <td>deqp/functional/gles3/shadermatrix/determinant</td>\n",
       "      <td>36</td>\n",
       "    </tr>\n",
       "  </tbody>\n",
       "</table>\n",
       "<p>871 rows × 2 columns</p>\n",
       "</div>"
      ],
      "text/plain": [
       "                                                   url  shader_count\n",
       "0    conformance/ogles/GL/built_in_varying_array_ou...             2\n",
       "1              conformance/ogles/GL/mat/mat_033_to_040            32\n",
       "2    conformance/glsl/implicit/ternary_ivec3_vec3.vert             2\n",
       "3                        conformance/state/gl-geterror             0\n",
       "4    conformance/glsl/misc/ternary-operators-in-glo...            13\n",
       "..                                                 ...           ...\n",
       "866           conformance/context/context-hidden-alpha             0\n",
       "867      deqp/functional/gles3/fboinvalidate/format_00            52\n",
       "868        deqp/functional/gles3/shadermatrix/negation           108\n",
       "869  conformance/ogles/GL/smoothstep/smoothstep_001...            24\n",
       "870     deqp/functional/gles3/shadermatrix/determinant            36\n",
       "\n",
       "[871 rows x 2 columns]"
      ]
     },
     "execution_count": 7,
     "metadata": {},
     "output_type": "execute_result"
    }
   ],
   "source": [
    "df_shader_count"
   ]
  },
  {
   "cell_type": "code",
   "execution_count": 8,
   "metadata": {},
   "outputs": [],
   "source": [
    "s = set(Path('all.txt').read_text().splitlines())\n",
    "s1 = set(df_shader_count['url'])"
   ]
  },
  {
   "cell_type": "code",
   "execution_count": 9,
   "metadata": {},
   "outputs": [
    {
     "data": {
      "text/plain": [
       "1780"
      ]
     },
     "execution_count": 9,
     "metadata": {},
     "output_type": "execute_result"
    }
   ],
   "source": [
    "len(s-s1)"
   ]
  },
  {
   "cell_type": "code",
   "execution_count": 10,
   "metadata": {},
   "outputs": [
    {
     "data": {
      "text/plain": [
       "'#ifdef GL_ES\\nprecision mediump float;\\n#endif\\nvarying vec4 color;\\nvoid main(void)\\n{\\n\\tgl_FragColor = vec4(color[1], color[2], color[3], color[4]);\\n}\\n'"
      ]
     },
     "execution_count": 10,
     "metadata": {},
     "output_type": "execute_result"
    }
   ],
   "source": [
    "df_type_shader.loc[1].shader"
   ]
  },
  {
   "cell_type": "code",
   "execution_count": null,
   "metadata": {},
   "outputs": [],
   "source": []
  },
  {
   "cell_type": "code",
   "execution_count": null,
   "metadata": {},
   "outputs": [],
   "source": []
  }
 ],
 "metadata": {
  "kernelspec": {
   "display_name": "Python 3",
   "language": "python",
   "name": "python3"
  },
  "language_info": {
   "codemirror_mode": {
    "name": "ipython",
    "version": 3
   },
   "file_extension": ".py",
   "mimetype": "text/x-python",
   "name": "python",
   "nbconvert_exporter": "python",
   "pygments_lexer": "ipython3",
   "version": "3.12.3"
  }
 },
 "nbformat": 4,
 "nbformat_minor": 2
}
